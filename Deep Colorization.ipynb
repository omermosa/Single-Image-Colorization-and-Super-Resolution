{
  "nbformat": 4,
  "nbformat_minor": 0,
  "metadata": {
    "colab": {
      "name": "Project.ipynb",
      "provenance": [],
      "collapsed_sections": []
    },
    "kernelspec": {
      "name": "python3",
      "display_name": "Python 3"
    },
    "accelerator": "GPU"
  },
  "cells": [
    {
      "cell_type": "code",
      "metadata": {
        "colab": {
          "base_uri": "https://localhost:8080/"
        },
        "id": "kBVPeH0u08bt",
        "outputId": "f4966866-d964-4cef-8420-d6baa044384b"
      },
      "source": [
        "from google.colab import drive\n",
        "drive.mount('/content/drive')"
      ],
      "execution_count": null,
      "outputs": [
        {
          "output_type": "stream",
          "text": [
            "Mounted at /content/drive\n"
          ],
          "name": "stdout"
        }
      ]
    },
    {
      "cell_type": "code",
      "metadata": {
        "id": "XXz7jivjozWZ"
      },
      "source": [
        "! cp /content/drive/MyDrive/Images_resized.tar.gz /content\r\n",
        "! tar  x -f Images_resized.tar.gz\r\n",
        "! cp /content/drive/MyDrive/MSCOCO_TRAIN_118K.tar.gz /content\r\n",
        "! tar  x -f MSCOCO_TRAIN_118K.tar.gz"
      ],
      "execution_count": null,
      "outputs": []
    },
    {
      "cell_type": "code",
      "metadata": {
        "id": "OGm-72McckFZ"
      },
      "source": [
        "import cv2\r\n",
        "import os\r\n",
        "\r\n",
        "def load_images_from_folder(folder):\r\n",
        "    images = []\r\n",
        "    for filename in os.listdir(folder):\r\n",
        "        img = cv2.imread(os.path.join(folder,filename))\r\n",
        "        img = cv2.resize(img,(128,128))\r\n",
        "        if img is not None:\r\n",
        "            images.append(img)\r\n",
        "    return images\r\n",
        "\r\n",
        "images = load_images_from_folder(\"/content/test2017\")"
      ],
      "execution_count": null,
      "outputs": []
    },
    {
      "cell_type": "code",
      "metadata": {
        "id": "f4PaleUZd4zR"
      },
      "source": [
        "for i in range(len(images)):\r\n",
        "    file_name = \"Images_resized/MSCOCO_TEST2017_\" + str (i) + \".jpg\"\r\n",
        "    cv2.imwrite(file_name, images[i])"
      ],
      "execution_count": null,
      "outputs": []
    },
    {
      "cell_type": "code",
      "metadata": {
        "id": "eJcSdoQ1mwh5"
      },
      "source": [
        "%cd /content/drive/MyDrive/colorization_dataSet_folder\n"
      ],
      "execution_count": null,
      "outputs": []
    },
    {
      "cell_type": "code",
      "metadata": {
        "colab": {
          "base_uri": "https://localhost:8080/"
        },
        "id": "JNaMZwVzsFsf",
        "outputId": "2787bdf7-f1ad-4e93-8358-1e2340e1be0c"
      },
      "source": [
        "os.listdir(\"/content/drive/MyDrive/colorization_dataSet_folder/DIV2K_valid_HR\")"
      ],
      "execution_count": null,
      "outputs": [
        {
          "output_type": "execute_result",
          "data": {
            "text/plain": [
              "[]"
            ]
          },
          "metadata": {
            "tags": []
          },
          "execution_count": 138
        }
      ]
    },
    {
      "cell_type": "code",
      "metadata": {
        "id": "t0SOrGAankiW"
      },
      "source": [
        "import os\n",
        "import shutil\n",
        "fs=os.listdir(\"/content/drive/MyDrive/colorization_dataSet_folder/flower_photos/dandelion\")\n",
        "pd=\"/content/drive/MyDrive/colorization_dataSet_folder/flower_photos/dandelion\"\n",
        "for f in fs:\n",
        "    temp_dir=os.path.join(pd,f)\n",
        "\n",
        "    shutil.move(temp_dir,\"/content/drive/MyDrive/colorization_dataSet_folder/DIV2K_train_HR\")"
      ],
      "execution_count": null,
      "outputs": []
    },
    {
      "cell_type": "code",
      "metadata": {
        "id": "e2LHcDM9fQST"
      },
      "source": [
        "from sklearn.preprocessing import Normalizer\n",
        "\n",
        "def convertSavedFromBgrToLab(data):\n",
        "    X_train = np.copy(data)\n",
        "    X_train = X_train.astype(np.float32)\n",
        "    res = np.zeros_like(X_train)\n",
        "\n",
        "    for i in range(X_train.shape[0]):\n",
        "        res[i] = cv2.cvtColor(X_train[i], cv2.COLOR_BGR2Lab)\n",
        "    \n",
        "    print(res[0][0][0])\n",
        "\n",
        "    res = np.array(res)\n",
        "    \n",
        "    mean = np.mean(res, axis = 0)\n",
        "    std_dev = np.std(res, axis = 0)\n",
        "\n",
        "    res -= mean\n",
        "    res /= std_dev\n",
        "    max = np.max(res, axis=0)\n",
        "    min = np.min(res, axis=0)\n",
        "\n",
        "    res -= min\n",
        "    res /= (max - min)\n",
        "    \n",
        "    print(res[0][0][0])\n",
        "\n",
        "    return res, mean, std_dev, min, max\n",
        "\n",
        "def convertFromLab2BGR(data):\n",
        "    X_train = np.copy(data)\n",
        "    X_train = X_train.astype(np.float32)\n",
        "    res = np.zeros_like(X_train)\n",
        "    for i in range(X_train.shape[0]):\n",
        "        res[i] = cv2.cvtColor(X_train[i], cv2.COLOR_Lab2BGR)\n",
        "    return res\n",
        "    \n",
        "\n",
        "\n",
        "\n"
      ],
      "execution_count": null,
      "outputs": []
    },
    {
      "cell_type": "code",
      "metadata": {
        "colab": {
          "base_uri": "https://localhost:8080/"
        },
        "id": "r2m3NryGkHGO",
        "outputId": "b91ce18b-8a81-44c7-aef9-a77cab3bf622"
      },
      "source": [
        "from google.colab.patches import cv2_imshow\n",
        "import cv2\n",
        "import numpy as np\n",
        "\n",
        "\n",
        "data = np.load(\"/content/drive/MyDrive/Flower_Images_Data/X_train_128.npy\")\n",
        "print(data.shape)\n",
        "data = data.reshape(3170, 128,128,3)\n",
        "print(data.shape)\n"
      ],
      "execution_count": null,
      "outputs": [
        {
          "output_type": "stream",
          "text": [
            "(3170, 49152)\n",
            "(3170, 128, 128, 3)\n"
          ],
          "name": "stdout"
        }
      ]
    },
    {
      "cell_type": "code",
      "metadata": {
        "id": "9t1G_717P0pg"
      },
      "source": [
        "resized = []\r\n",
        "for i in range(data.shape[0]):\r\n",
        "    resized.append(cv2.resize(data[i], (64,64)))\r\n",
        "\r\n",
        "resized = np.array(resized)\r\n",
        "data = resized"
      ],
      "execution_count": null,
      "outputs": []
    },
    {
      "cell_type": "code",
      "metadata": {
        "id": "Ik4Xb08gZ4NC"
      },
      "source": [
        "import tensorflow as tf\n",
        "from tensorflow import keras\n",
        "from tensorflow.keras import layers\n",
        "import numpy as np\n",
        "from keras.models import Model\n",
        "import matplotlib.pyplot as plt\n",
        "import cv2\n",
        "from skimage.color import rgb2lab, lab2rgb\n",
        "#(X_train, y_train), (X_test, y_test) = tf.keras.datasets.cifar10.load_data()\n",
        "import skimage.color as converter\n",
        "\n",
        "\n",
        "y_train_AB, mean, std_dev, min, max = convertSavedFromBgrToLab(data)\n",
        "X_train_L = np.copy(y_train_AB[:,:,:,0]) \n",
        "X_train_L = np.expand_dims(X_train_L, -1)\n",
        "y_train_AB = y_train_AB[:,:,:,1:]"
      ],
      "execution_count": null,
      "outputs": []
    },
    {
      "cell_type": "code",
      "metadata": {
        "id": "WsLT6gbfg5uu"
      },
      "source": [
        "y_pred = 0\n",
        "\n",
        "y_pred = model.predict(X_train_L[0:100])\n",
        "\n",
        "full_lab_again_predicted = np.concatenate((X_train_L[0:100], y_pred[0:100]), axis=-1)\n",
        "\n",
        "full_lab_again_predicted = ((full_lab_again_predicted * (max - min)) + min) * std_dev + mean \n",
        "\n",
        "RGB_again_predicted = convertFromLab2BGR(full_lab_again_predicted)\n",
        "\n",
        "\n",
        "\n",
        "full_lab_again_GT = np.concatenate((X_train_L, y_train_AB), axis=-1)\n",
        "\n",
        "full_lab_again_GT = ((full_lab_again_GT * (max - min)) + min) * std_dev + mean \n",
        "\n",
        "RGB_again_GT = convertFromLab2BGR(full_lab_again_GT)\n"
      ],
      "execution_count": null,
      "outputs": []
    },
    {
      "cell_type": "code",
      "metadata": {
        "id": "4IrBqMZZ-eqH"
      },
      "source": [
        "cv2_imshow(RGB_again_predicted[1]*255)\n",
        "cv2_imshow(RGB_again_GT[1]*255)"
      ],
      "execution_count": null,
      "outputs": []
    },
    {
      "cell_type": "code",
      "metadata": {
        "id": "tj5iSNsO_Hai"
      },
      "source": [
        "print(X_train_L[0][0][0])\n",
        "print(y_train_AB[0][0][0])\n",
        "print(y_pred[0][0][0])\n"
      ],
      "execution_count": null,
      "outputs": []
    },
    {
      "cell_type": "code",
      "metadata": {
        "id": "Rzm30-zxXzkt"
      },
      "source": [
        "import keras.backend as K\n",
        "import tensorflow as tf\n",
        "from keras.layers import Input, Conv2D, BatchNormalization, UpSampling2D, Dropout\n",
        "from keras.models import Model\n",
        "from keras.regularizers import l2\n",
        "from keras.utils import multi_gpu_model\n",
        "from keras.utils import plot_model\n",
        "\n",
        "# from config import img_rows, img_cols, num_classes, kernel\n",
        "\n",
        "l2_reg = l2(1e-4)\n",
        "\n",
        "img_rows = 64 \n",
        "img_cols = 64\n",
        "num_classes = 313\n",
        "kernel = 3\n",
        "\n",
        "def build_model():\n",
        "    input_tensor = Input(shape=(img_rows, img_cols, 1))\n",
        "    x = Conv2D(64, (kernel, kernel), activation='relu', padding='same', name='conv1_1', kernel_initializer=\"he_normal\",\n",
        "               kernel_regularizer=l2_reg)(input_tensor)\n",
        "    x = Conv2D(64, (kernel, kernel), activation='relu', padding='same', name='conv1_2', kernel_initializer=\"he_normal\",\n",
        "               kernel_regularizer=l2_reg, strides=(1, 1))(x)\n",
        "    # x = Dropout(0.5)(x)\n",
        "    x = BatchNormalization()(x)\n",
        "\n",
        "    x = Conv2D(128, (kernel, kernel), activation='relu', padding='same', name='conv2_1', kernel_initializer=\"he_normal\",\n",
        "               kernel_regularizer=l2_reg)(x)\n",
        "    x = Conv2D(128, (kernel, kernel), activation='relu', padding='same', name='conv2_2', kernel_initializer=\"he_normal\",\n",
        "               kernel_regularizer=l2_reg,\n",
        "               strides=(2, 2))(x)\n",
        "    # x = Dropout(0.5)(x)\n",
        "    x = BatchNormalization()(x)\n",
        "\n",
        "    x = UpSampling2D(size=(2, 2))(x)\n",
        "    x = Conv2D(256, (kernel, kernel), activation='relu', padding='same', name='conv3_1',\n",
        "               kernel_initializer=\"he_normal\", kernel_regularizer=l2_reg)(x)\n",
        "    x = Conv2D(256, (kernel, kernel), activation='relu', padding='same', name='conv3_2',\n",
        "               kernel_initializer=\"he_normal\", kernel_regularizer=l2_reg)(x)\n",
        "    x = Conv2D(256, (kernel, kernel), activation='relu', padding='same', name='conv3_3', kernel_initializer=\"he_normal\",\n",
        "               strides=(2, 2))(x)\n",
        "    # x = Dropout(0.5)(x)\n",
        "    x = BatchNormalization()(x)\n",
        "\n",
        "    x = Conv2D(512, (kernel, kernel), activation='relu', padding='same', name='conv4_1',\n",
        "               kernel_initializer=\"he_normal\", kernel_regularizer=l2_reg)(x)\n",
        "    x = Conv2D(512, (kernel, kernel), activation='relu', padding='same', name='conv4_2',\n",
        "               kernel_initializer=\"he_normal\", kernel_regularizer=l2_reg)(x)\n",
        "    x = Conv2D(512, (kernel, kernel), activation='relu', padding='same', name='conv4_3',\n",
        "               kernel_initializer=\"he_normal\", kernel_regularizer=l2_reg)(x)\n",
        "    # x = Dropout(0.5)(x)\n",
        "    x = BatchNormalization()(x)\n",
        "\n",
        "    x = Conv2D(512, (kernel, kernel), activation='relu', padding='same', dilation_rate=1, name='conv5_1',\n",
        "               kernel_initializer=\"he_normal\", kernel_regularizer=l2_reg)(x)\n",
        "    x = Conv2D(512, (kernel, kernel), activation='relu', padding='same', dilation_rate=1, name='conv5_2',\n",
        "               kernel_initializer=\"he_normal\", kernel_regularizer=l2_reg)(x)\n",
        "    x = Conv2D(512, (kernel, kernel), activation='relu', padding='same', dilation_rate=1, name='conv5_3',\n",
        "               kernel_initializer=\"he_normal\", kernel_regularizer=l2_reg)(x)\n",
        "    # x = Dropout(0.5)(x)\n",
        "    x = BatchNormalization()(x)\n",
        "\n",
        "    x = Conv2D(512, (kernel, kernel), activation='relu', padding='same', dilation_rate=1, name='conv6_1',\n",
        "               kernel_initializer=\"he_normal\", kernel_regularizer=l2_reg)(x)\n",
        "    x = Conv2D(512, (kernel, kernel), activation='relu', padding='same', dilation_rate=1, name='conv6_2',\n",
        "               kernel_initializer=\"he_normal\", kernel_regularizer=l2_reg)(x)\n",
        "    x = Conv2D(512, (kernel, kernel), activation='relu', padding='same', dilation_rate=1, name='conv6_3',\n",
        "               kernel_initializer=\"he_normal\", kernel_regularizer=l2_reg)(x)\n",
        "    # x = Dropout(0.5)(x)\n",
        "    x = BatchNormalization()(x)\n",
        "\n",
        "    x = Conv2D(256, (kernel, kernel), activation='relu', padding='same', name='conv7_1',\n",
        "               kernel_initializer=\"he_normal\", kernel_regularizer=l2_reg)(x)\n",
        "    x = Conv2D(256, (kernel, kernel), activation='relu', padding='same', name='conv7_2',\n",
        "               kernel_initializer=\"he_normal\", kernel_regularizer=l2_reg)(x)\n",
        "    x = Conv2D(256, (kernel, kernel), activation='relu', padding='same', name='conv7_3',\n",
        "               kernel_initializer=\"he_normal\", kernel_regularizer=l2_reg)(x)\n",
        "    # x = Dropout(0.5)(x)\n",
        "    x = BatchNormalization()(x)\n",
        "\n",
        "\n",
        "#######\n",
        "    x = UpSampling2D(size=(2, 2))(x)\n",
        "    x = Conv2D(128, (kernel, kernel), activation='relu', padding='same', name='conv8_1',\n",
        "               kernel_initializer=\"he_normal\", kernel_regularizer=l2_reg)(x)\n",
        "    x = Conv2D(128, (kernel, kernel), activation='relu', padding='same', name='conv8_2',\n",
        "               kernel_initializer=\"he_normal\", kernel_regularizer=l2_reg)(x)\n",
        "    x = Conv2D(128, (kernel, kernel), activation='relu', padding='same', name='conv8_3',\n",
        "               kernel_initializer=\"he_normal\", kernel_regularizer=l2_reg)(x)\n",
        "    # x = Dropout(0.5)(x)\n",
        "    x = BatchNormalization()(x)\n",
        "\n",
        "    # outputs = Conv2D(num_classes, (1, 1), activation='softmax', padding='same', name='pred')(x)\n",
        "    outputs = Conv2D(2, (1, 1), activation='softmax', padding='same', name='pred')(x)\n",
        "\n",
        "\n",
        "    model = Model(inputs=input_tensor, outputs=outputs, name=\"DeepColorizer\")\n",
        "    return model"
      ],
      "execution_count": null,
      "outputs": []
    },
    {
      "cell_type": "code",
      "metadata": {
        "id": "dYLr3RHPqxnJ"
      },
      "source": [
        "import os\n",
        "%cd /content/\n",
        "\n",
        "dir_valid = os.listdir(\"content/Images_resized\")\n",
        "for i in range(len(dir_valid)):\n",
        "    dir_valid[i] = \"content/Images_resized/\" + dir_valid[i] \n",
        "\n",
        "\n",
        "dir_train = os.listdir(\"content/MSCOCO_TRAIN2017_RESIZED\")\n",
        "for i in range(len(dir_valid)):\n",
        "    dir_train[i] = \"content/MSCOCO_TRAIN2017_RESIZED/\" + dir_train[i] \n",
        "\n",
        "\n",
        "gen_valid = generator(dir_valid, dir_valid, batch_size=64)\n",
        "gen_train = generator(dir_train, dir_train, batch_size=64)"
      ],
      "execution_count": null,
      "outputs": []
    },
    {
      "cell_type": "code",
      "metadata": {
        "id": "MjS2P0vvWeBJ"
      },
      "source": [
        "import keras\r\n",
        "ckpt=keras.callbacks.ModelCheckpoint(\"/content/drive/MyDrive/Flower_Images_Data/flowers_final_2.h5\",save_best_only=True)"
      ],
      "execution_count": null,
      "outputs": []
    },
    {
      "cell_type": "code",
      "metadata": {
        "id": "MPM_lBOjpQIe"
      },
      "source": [
        "model = build_model()\r\n",
        "model.compile(optimizer=keras.optimizers.Adam(learning_rate=0.001), loss='mse')\r\n",
        "# keras.models.load_model(model,\"/content/drive/MyDrive/Flower_Images_Data/model_flowers.h5\")"
      ],
      "execution_count": null,
      "outputs": []
    },
    {
      "cell_type": "code",
      "metadata": {
        "id": "BSdBd-vfX7-I"
      },
      "source": [
        "import cv2\n",
        "\n",
        "# model.summary()\n",
        "tf.keras.utils.plot_model(model)\n",
        "history = model.fit(X_train_L,\n",
        "                    y_train_AB,\n",
        "                    batch_size= 128,\n",
        "                    epochs= 10,\n",
        "                    validation_split=0.2,\n",
        "                    callbacks=[ckpt]\n",
        "                   )\n",
        "# # print(cv2.imread(\"content/MSCOCO_TRAIN2017_RESIZED/MSCOCO_TRAIN2017_21670.jpg\"))\n",
        "# history = model.fit(gen_train,\n",
        "#                     validation_data=gen_valid,\n",
        "#                     validation_steps=64,\n",
        "#                     steps_per_epoch=64,\n",
        "#                     epochs= 100,\n",
        "#                     callbacks=[ckpt]\n",
        "#                    )\n"
      ],
      "execution_count": null,
      "outputs": []
    },
    {
      "cell_type": "code",
      "metadata": {
        "id": "z810gBmWSRAe"
      },
      "source": [
        "from tensorflow import keras\r\n",
        "model = keras.models.load_model(\"/content/drive/MyDrive/Flower_Images_Data/model_for_dev2k_flowers_merge_1.h5\")"
      ],
      "execution_count": null,
      "outputs": []
    },
    {
      "cell_type": "code",
      "metadata": {
        "id": "ZUJI_uORDgjB"
      },
      "source": [
        "keras.models.save_model(model,\"model.h5\")"
      ],
      "execution_count": null,
      "outputs": []
    },
    {
      "cell_type": "code",
      "metadata": {
        "id": "5h-CChy-5dbG"
      },
      "source": [
        "import skimage.transform as rs \n",
        "import matplotlib.pyplot as plt\n",
        "from google.colab.patches import cv2_imshow\n",
        "import cv2 \n",
        "import numpy as np\n",
        "\n",
        "img = cv2.imread(\"/content/image10.jpg\")\n",
        "img = cv2.resize(img, (64,64))\n",
        "grey = np.copy(img)\n",
        "cv2_imshow(img)\n",
        "\n",
        "img = img / 255 \n",
        "img = img.astype(np.float32)\n",
        "img = cv2.cvtColor(img, cv2.COLOR_BGR2Lab)\n",
        "# img  = (((img - mean) / std_dev) - min) / (max - min)\n",
        "\n",
        "X_test_L = np.copy(img[:,:,0])\n",
        "X_test_L = X_test_L[np.newaxis,:,:,np.newaxis] \n",
        "\n",
        "\n",
        "y_test_AB = img[:,:,1:]\n",
        "#print(X_test_L.shape)\n",
        "#print(y_test_AB.shape)\n",
        "\n",
        "y_pred = model.predict(X_test_L)\n",
        "\n",
        "#######################################\n",
        "\n",
        "#print(y_pred.shape)\n",
        "full_lab_again = np.concatenate((X_test_L, y_pred), axis=-1)\n",
        "\n",
        "# full_lab_again = (full_lab_again* (max - min) + min) * std_dev + mean\n",
        "\n",
        "#print(full_lab_again.shape)\n",
        "#print(y_pred[0][0][0])\n",
        "RGB_again = convertFromLab2BGR(full_lab_again)\n",
        "# RGB_again = cv2.cvtColor(RGB_again[0]*255, cv2.COLOR_RGB2BGR)\n",
        "\n",
        "cv2_imshow(RGB_again[0]*255)\n",
        "grey = cv2.cvtColor(grey, cv2.COLOR_BGR2GRAY)\n",
        "grey = cv2.resize(grey, (64,64))\n",
        "colored = cv2.resize(RGB_again[0]*255, (64,64))\n",
        "\n",
        "cv2.imwrite(\"flower_11_colored.jpg\", colored)\n",
        "cv2.imwrite(\"flower_11_grey.jpg\", grey)\n"
      ],
      "execution_count": null,
      "outputs": []
    },
    {
      "cell_type": "code",
      "metadata": {
        "id": "ZPlhZ2WV751n"
      },
      "source": [
        "\n",
        "print(y_pred.shape)\n",
        "full_lab_again = np.concatenate((X_test_L, y_pred), axis=-1)\n",
        "print(full_lab_again.shape)\n",
        "print(y_pred[0][0][0])\n",
        "RGB_again = convertFromLab2BGR(full_lab_again)\n",
        "\n",
        "\n",
        "cv2_imshow(RGB_again[0]*255)\n",
        "\n"
      ],
      "execution_count": null,
      "outputs": []
    },
    {
      "cell_type": "code",
      "metadata": {
        "id": "B6YY5IBoWbM8"
      },
      "source": [
        "!wget http://images.cocodataset.org/zips/train2017.zip"
      ],
      "execution_count": null,
      "outputs": []
    },
    {
      "cell_type": "code",
      "metadata": {
        "id": "OU9I3rFCTdIn"
      },
      "source": [
        "!unzip train2017.zip"
      ],
      "execution_count": null,
      "outputs": []
    },
    {
      "cell_type": "code",
      "metadata": {
        "id": "8qgQMLtiQIqp"
      },
      "source": [
        "import cv2\r\n",
        "import os\r\n",
        "\r\n",
        "def load_images_from_folder(folder):\r\n",
        "    i = 0\r\n",
        "    for filename in os.listdir(folder):\r\n",
        "        img = cv2.imread(os.path.join(folder,filename))\r\n",
        "        img = cv2.resize(img,(128,128))\r\n",
        "        i+=1\r\n",
        "        if (i%1000 == 0):\r\n",
        "            print(i)\r\n",
        "        if img is not None:\r\n",
        "            save_pic = \"/content/MSCOCO_TRAIN2017_RESIZED/MSCOCO_TRAIN2017_\" + str (i) + \".jpg\"\r\n",
        "            cv2.imwrite(save_pic, img)\r\n",
        " \r\n",
        "\r\n",
        "load_images_from_folder(\"/content/Images_resized/train2017\")\r\n"
      ],
      "execution_count": null,
      "outputs": []
    },
    {
      "cell_type": "code",
      "metadata": {
        "id": "fnfhyM5QWSTt"
      },
      "source": [
        "!pwd\r\n",
        "\r\n",
        "i = 0\r\n",
        "for filename in os.listdir(\"/content/MSCOCO_TRAIN2017_RESIZED\"):\r\n",
        "    i +=1\r\n",
        "\r\n",
        "print(i)"
      ],
      "execution_count": null,
      "outputs": []
    },
    {
      "cell_type": "code",
      "metadata": {
        "id": "n3coFETZgTuk"
      },
      "source": [
        "\r\n",
        "!tar -czvf MSCOCO_TRAIN_118K.tar.gz /content/MSCOCO_TRAIN2017_RESIZED\r\n"
      ],
      "execution_count": null,
      "outputs": []
    }
  ]
}